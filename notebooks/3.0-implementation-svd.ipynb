{
 "cells": [
  {
   "cell_type": "code",
   "execution_count": 1,
   "id": "e5af2737",
   "metadata": {},
   "outputs": [
    {
     "name": "stdout",
     "output_type": "stream",
     "text": [
      "Defaulting to user installation because normal site-packages is not writeable\n",
      "Requirement already satisfied: surprise in /home/ivan/.local/lib/python3.11/site-packages (0.1)\n",
      "Requirement already satisfied: scikit-surprise in /home/ivan/.local/lib/python3.11/site-packages (from surprise) (1.1.3)\n",
      "Requirement already satisfied: joblib>=1.0.0 in /usr/local/lib/python3.11/site-packages (from scikit-surprise->surprise) (1.2.0)\n",
      "Requirement already satisfied: numpy>=1.17.3 in /home/ivan/.local/lib/python3.11/site-packages (from scikit-surprise->surprise) (1.26.2)\n",
      "Requirement already satisfied: scipy>=1.3.2 in /home/ivan/.local/lib/python3.11/site-packages (from scikit-surprise->surprise) (1.11.3)\n"
     ]
    }
   ],
   "source": [
    "!pip install surprise"
   ]
  },
  {
   "cell_type": "code",
   "execution_count": 2,
   "id": "e2dce964",
   "metadata": {},
   "outputs": [],
   "source": [
    "import os\n",
    "folder_path = '../data/raw/ml-100k'\n"
   ]
  },
  {
   "cell_type": "code",
   "execution_count": 3,
   "id": "6887ca66",
   "metadata": {},
   "outputs": [],
   "source": [
    "import pandas as pd\n",
    "import numpy as np\n",
    "import matplotlib.pyplot as plt\n",
    "import seaborn as sns\n",
    "import datetime\n",
    "\n",
    "# Load and preprocess the data\n",
    "ratings_df = pd.read_csv(folder_path+'/u.data', sep='\\t', names=['user_id', 'movie_id', 'rating', 'timestamp'])\n",
    "users_df = pd.read_csv(folder_path+'/u.user', sep='|', names=['user_id', 'age', 'gender', 'occupation', 'zip_code'])\n",
    "movies_df = pd.read_csv(folder_path+'/u.item', sep='|', encoding='latin-1', names=['movie_id', 'title', 'release_date', 'video_release_date', 'IMDB_URL'] + ['genre'+str(i) for i in range(19)])\n",
    "movies_df['release_year'] = movies_df['title'].str.extract(r'\\((\\d{4})\\)')\n"
   ]
  },
  {
   "cell_type": "code",
   "execution_count": 4,
   "id": "0b6dc9b9",
   "metadata": {},
   "outputs": [
    {
     "name": "stdout",
     "output_type": "stream",
     "text": [
      "RMSE: 0.9390\n"
     ]
    },
    {
     "data": {
      "text/plain": [
       "0.9390242505561608"
      ]
     },
     "execution_count": 4,
     "metadata": {},
     "output_type": "execute_result"
    }
   ],
   "source": [
    "from surprise import Dataset, Reader, SVD, accuracy\n",
    "from surprise.model_selection import train_test_split, GridSearchCV\n",
    "\n",
    "# Load the dataset\n",
    "data = Dataset.load_from_df(ratings_df[['user_id', 'movie_id', 'rating']], Reader(rating_scale=(1, 5)))\n",
    "\n",
    "# Train-test split\n",
    "trainset, testset = train_test_split(data, test_size=0.2)\n",
    "\n",
    "# Using SVD (Singular Value Decomposition)\n",
    "model = SVD()\n",
    "\n",
    "# Train the model\n",
    "model.fit(trainset)\n",
    "\n",
    "# Make predictions on the test set\n",
    "predictions = model.test(testset)\n",
    "\n",
    "# Calculate RMSE\n",
    "accuracy.rmse(predictions)\n"
   ]
  },
  {
   "cell_type": "code",
   "execution_count": 5,
   "id": "d14aa217",
   "metadata": {},
   "outputs": [],
   "source": [
    "user_id = 1"
   ]
  },
  {
   "cell_type": "code",
   "execution_count": 6,
   "id": "c8c20908",
   "metadata": {},
   "outputs": [
    {
     "name": "stdout",
     "output_type": "stream",
     "text": [
      "Recommended Movie for User 1: One Flew Over the Cuckoo's Nest (1975)\n"
     ]
    }
   ],
   "source": [
    "\n",
    "all_movie_ids = movies_df['movie_id'].unique()\n",
    "\n",
    "# Predict ratings for all movies the user hasn't rated yet\n",
    "user_unrated_movies = ratings_df[~ratings_df['movie_id'].isin(ratings_df[ratings_df['user_id'] == user_id]['movie_id'])]\n",
    "user_unrated_movies = user_unrated_movies['movie_id'].unique()\n",
    "\n",
    "predicted_ratings = []\n",
    "for movie_id in user_unrated_movies:\n",
    "    predicted = model.predict(uid=user_id, iid=movie_id)\n",
    "    predicted_ratings.append((movie_id, predicted.est))\n",
    "\n",
    "# Identify the movie with the highest predicted rating\n",
    "best_movie_id = max(predicted_ratings, key=lambda x: x[1])[0]\n",
    "\n",
    "# Find the movie title\n",
    "best_movie_title = movies_df[movies_df['movie_id'] == best_movie_id]['title'].iloc[0]\n",
    "\n",
    "print(f\"Recommended Movie for User {user_id}: {best_movie_title}\")"
   ]
  },
  {
   "cell_type": "code",
   "execution_count": 7,
   "id": "7a8687ed",
   "metadata": {},
   "outputs": [
    {
     "name": "stdout",
     "output_type": "stream",
     "text": [
      "Movie: One Flew Over the Cuckoo's Nest (1975), Estimated Rating: 4.966745206305402\n",
      "Movie: Casablanca (1942), Estimated Rating: 4.859361082687392\n",
      "Movie: Secrets & Lies (1996), Estimated Rating: 4.7907693201282475\n",
      "Movie: Jackie Brown (1997), Estimated Rating: 4.704498527538829\n",
      "Movie: Maltese Falcon, The (1941), Estimated Rating: 4.641128407297116\n",
      "Movie: Annie Hall (1977), Estimated Rating: 4.624287627710041\n",
      "Movie: Lawrence of Arabia (1962), Estimated Rating: 4.6194202709832135\n",
      "Movie: When We Were Kings (1996), Estimated Rating: 4.566762884961987\n",
      "Movie: Chinatown (1974), Estimated Rating: 4.558289380869701\n",
      "Movie: Close Shave, A (1995), Estimated Rating: 4.514808147709102\n"
     ]
    }
   ],
   "source": [
    "# Predict ratings for these movies\n",
    "predicted_ratings = []\n",
    "for movie_id in user_unrated_movies:\n",
    "    predicted = model.predict(uid=user_id, iid=movie_id)\n",
    "    predicted_ratings.append((movie_id, predicted.est))\n",
    "\n",
    "# Sort the predictions by estimated ratings in descending order\n",
    "predicted_ratings.sort(key=lambda x: x[1], reverse=True)\n",
    "\n",
    "# Select top N movies\n",
    "top_n = 10  # Number of top recommendations to retrieve\n",
    "top_movies = predicted_ratings[:top_n]\n",
    "\n",
    "# Fetching movie titles and ratings\n",
    "recommended_movies = [(movies_df[movies_df['movie_id'] == m_id]['title'].iloc[0], rating) for m_id, rating in top_movies]\n",
    "\n",
    "# Display the recommendations with estimated ratings\n",
    "for movie, rating in recommended_movies:\n",
    "    print(f\"Movie: {movie}, Estimated Rating: {rating}\")"
   ]
  },
  {
   "cell_type": "code",
   "execution_count": null,
   "id": "2ad6fa2b",
   "metadata": {},
   "outputs": [],
   "source": []
  }
 ],
 "metadata": {
  "kernelspec": {
   "display_name": "Python 3 (ipykernel)",
   "language": "python",
   "name": "python3"
  },
  "language_info": {
   "codemirror_mode": {
    "name": "ipython",
    "version": 3
   },
   "file_extension": ".py",
   "mimetype": "text/x-python",
   "name": "python",
   "nbconvert_exporter": "python",
   "pygments_lexer": "ipython3",
   "version": "3.11.6"
  }
 },
 "nbformat": 4,
 "nbformat_minor": 5
}
