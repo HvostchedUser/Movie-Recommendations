{
 "cells": [
  {
   "cell_type": "code",
   "execution_count": 1,
   "id": "b0c5a3f3",
   "metadata": {},
   "outputs": [
    {
     "name": "stdout",
     "output_type": "stream",
     "text": [
      "Defaulting to user installation because normal site-packages is not writeable\n",
      "Requirement already satisfied: surprise in /home/ivan/.local/lib/python3.11/site-packages (0.1)\n",
      "Requirement already satisfied: scikit-surprise in /home/ivan/.local/lib/python3.11/site-packages (from surprise) (1.1.3)\n",
      "Requirement already satisfied: joblib>=1.0.0 in /usr/local/lib/python3.11/site-packages (from scikit-surprise->surprise) (1.2.0)\n",
      "Requirement already satisfied: numpy>=1.17.3 in /home/ivan/.local/lib/python3.11/site-packages (from scikit-surprise->surprise) (1.26.2)\n",
      "Requirement already satisfied: scipy>=1.3.2 in /home/ivan/.local/lib/python3.11/site-packages (from scikit-surprise->surprise) (1.11.3)\n"
     ]
    }
   ],
   "source": [
    "!pip install surprise"
   ]
  },
  {
   "cell_type": "code",
   "execution_count": 2,
   "id": "e2dce964",
   "metadata": {},
   "outputs": [],
   "source": [
    "import os\n",
    "folder_path = '../data/raw/ml-100k'\n"
   ]
  },
  {
   "cell_type": "code",
   "execution_count": 3,
   "id": "6887ca66",
   "metadata": {},
   "outputs": [],
   "source": [
    "import pandas as pd\n",
    "import numpy as np\n",
    "import matplotlib.pyplot as plt\n",
    "import seaborn as sns\n",
    "import datetime\n",
    "\n",
    "# Load and preprocess the data\n",
    "ratings_df = pd.read_csv(folder_path+'/u.data', sep='\\t', names=['user_id', 'movie_id', 'rating', 'timestamp'])\n",
    "users_df = pd.read_csv(folder_path+'/u.user', sep='|', names=['user_id', 'age', 'gender', 'occupation', 'zip_code'])\n",
    "movies_df = pd.read_csv(folder_path+'/u.item', sep='|', encoding='latin-1', names=['movie_id', 'title', 'release_date', 'video_release_date', 'IMDB_URL'] + ['genre'+str(i) for i in range(19)])\n",
    "movies_df['release_year'] = movies_df['title'].str.extract(r'\\((\\d{4})\\)')\n"
   ]
  },
  {
   "cell_type": "code",
   "execution_count": 4,
   "id": "0b6dc9b9",
   "metadata": {},
   "outputs": [
    {
     "name": "stdout",
     "output_type": "stream",
     "text": [
      "Computing the cosine similarity matrix...\n",
      "Done computing similarity matrix.\n",
      "RMSE: 0.9596\n",
      "Test RMSE: 0.9595528113887499\n"
     ]
    }
   ],
   "source": [
    "from surprise import Dataset, Reader, KNNWithMeans, accuracy\n",
    "from surprise.model_selection import train_test_split\n",
    "\n",
    "# Load the dataset\n",
    "data = Dataset.load_from_df(ratings_df[['user_id', 'movie_id', 'rating']], Reader(rating_scale=(1, 5)))\n",
    "\n",
    "# Split the data into training and test set (e.g., 80-20 split)\n",
    "trainset, testset = train_test_split(data, test_size=0.2)\n",
    "\n",
    "# Initialize the KNN model (using KNNWithMeans for this example)\n",
    "knn_model = KNNWithMeans(sim_options={'name': 'cosine', 'user_based': True})\n",
    "\n",
    "# Train the model on the training set\n",
    "knn_model.fit(trainset)\n",
    "\n",
    "# Predict ratings for the test set\n",
    "predictions = knn_model.test(testset)\n",
    "\n",
    "# Calculate and print the RMSE\n",
    "rmse = accuracy.rmse(predictions)\n",
    "print(f\"Test RMSE: {rmse}\")\n"
   ]
  },
  {
   "cell_type": "code",
   "execution_count": 5,
   "id": "ce4e3574",
   "metadata": {},
   "outputs": [],
   "source": [
    "user_id = 1"
   ]
  },
  {
   "cell_type": "code",
   "execution_count": 6,
   "id": "1400f7ad",
   "metadata": {},
   "outputs": [
    {
     "name": "stdout",
     "output_type": "stream",
     "text": [
      "Movie: Santa with Muscles (1996), Estimated Rating: 5\n",
      "Movie: Boys, Les (1997), Estimated Rating: 5\n",
      "Movie: Great Day in Harlem, A (1994), Estimated Rating: 5\n",
      "Movie: Someone Else's America (1995), Estimated Rating: 5\n",
      "Movie: Saint of Fort Washington, The (1993), Estimated Rating: 5\n",
      "Movie: Anna (1996), Estimated Rating: 4.950557333627635\n",
      "Movie: Faust (1994), Estimated Rating: 4.875776249504647\n",
      "Movie: Entertaining Angels: The Dorothy Day Story (1996), Estimated Rating: 4.860756890168655\n",
      "Movie: The Deadly Cure (1996), Estimated Rating: 4.778645453218508\n",
      "Movie: Star Kid (1997), Estimated Rating: 4.771326869306938\n"
     ]
    }
   ],
   "source": [
    "# Get all movies that the user hasn't rated yet\n",
    "user_unrated_movies = ratings_df[~ratings_df['movie_id'].isin(ratings_df[ratings_df['user_id'] == user_id]['movie_id'])]\n",
    "user_unrated_movies = user_unrated_movies['movie_id'].unique()\n",
    "\n",
    "# Predict ratings for these movies\n",
    "predicted_ratings = []\n",
    "for movie_id in user_unrated_movies:\n",
    "    predicted = knn_model.predict(uid=user_id, iid=movie_id)\n",
    "    predicted_ratings.append((movie_id, predicted.est))\n",
    "\n",
    "# Sort the predictions by estimated ratings in descending order and select top N\n",
    "predicted_ratings.sort(key=lambda x: x[1], reverse=True)\n",
    "top_n = 10  # Number of top recommendations\n",
    "top_movies = predicted_ratings[:top_n]\n",
    "\n",
    "# Fetching movie titles and ratings\n",
    "recommended_movies = [(movies_df[movies_df['movie_id'] == m_id]['title'].iloc[0], rating) for m_id, rating in top_movies]\n",
    "\n",
    "# Display the recommendations with estimated ratings\n",
    "for movie, rating in recommended_movies:\n",
    "    print(f\"Movie: {movie}, Estimated Rating: {rating}\")\n"
   ]
  },
  {
   "cell_type": "code",
   "execution_count": null,
   "id": "1a9fcc50",
   "metadata": {},
   "outputs": [],
   "source": []
  }
 ],
 "metadata": {
  "kernelspec": {
   "display_name": "Python 3 (ipykernel)",
   "language": "python",
   "name": "python3"
  },
  "language_info": {
   "codemirror_mode": {
    "name": "ipython",
    "version": 3
   },
   "file_extension": ".py",
   "mimetype": "text/x-python",
   "name": "python",
   "nbconvert_exporter": "python",
   "pygments_lexer": "ipython3",
   "version": "3.11.6"
  }
 },
 "nbformat": 4,
 "nbformat_minor": 5
}
