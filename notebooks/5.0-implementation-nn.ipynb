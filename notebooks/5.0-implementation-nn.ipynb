{
 "cells": [
  {
   "cell_type": "code",
   "execution_count": 1,
   "id": "e2dce964",
   "metadata": {},
   "outputs": [],
   "source": [
    "import os\n",
    "folder_path = '../data/raw/ml-100k'\n"
   ]
  },
  {
   "cell_type": "code",
   "execution_count": 2,
   "id": "0ee16722",
   "metadata": {},
   "outputs": [
    {
     "data": {
      "text/plain": [
       "(943, 1682)"
      ]
     },
     "execution_count": 2,
     "metadata": {},
     "output_type": "execute_result"
    }
   ],
   "source": [
    "import torch\n",
    "import torch.nn as nn\n",
    "import torch.optim as optim\n",
    "from torch.utils.data import Dataset, DataLoader\n",
    "from sklearn.preprocessing import MinMaxScaler\n",
    "from sklearn.model_selection import train_test_split\n",
    "import pandas as pd\n",
    "import numpy as np\n",
    "\n",
    "# Re-loading the ratings DataFrame\n",
    "ratings_file = folder_path+'/u.data'\n",
    "ratings_df = pd.read_csv(ratings_file, sep='\\t', names=['user_id', 'movie_id', 'rating', 'timestamp'])\n",
    "\n",
    "# Define a custom dataset for PyTorch\n",
    "class MovieLensDataset(Dataset):\n",
    "    def __init__(self, users, movies, ratings):\n",
    "        self.users = torch.LongTensor(users)\n",
    "        self.movies = torch.LongTensor(movies)\n",
    "        self.ratings = torch.FloatTensor(ratings)\n",
    "\n",
    "    def __len__(self):\n",
    "        return len(self.users)\n",
    "\n",
    "    def __getitem__(self, idx):\n",
    "        return self.users[idx], self.movies[idx], self.ratings[idx]\n",
    "\n",
    "\n",
    "# Encoding user IDs and movie IDs\n",
    "user_ids = ratings_df['user_id'].astype('category').cat.codes.values\n",
    "movie_ids = ratings_df['movie_id'].astype('category').cat.codes.values\n",
    "\n",
    "# Normalizing ratings\n",
    "scaler = MinMaxScaler()\n",
    "ratings = scaler.fit_transform(ratings_df[['rating']].values.astype(float)).flatten()\n",
    "\n",
    "# Splitting the dataset into training and test set\n",
    "train_user_ids, test_user_ids, train_movie_ids, test_movie_ids, train_ratings, test_ratings = train_test_split(\n",
    "    user_ids, movie_ids, ratings, test_size=0.2, random_state=42)\n",
    "\n",
    "# Creating PyTorch datasets\n",
    "train_dataset = MovieLensDataset(train_user_ids, train_movie_ids, train_ratings)\n",
    "test_dataset = MovieLensDataset(test_user_ids, test_movie_ids, test_ratings)\n",
    "\n",
    "# Creating data loaders\n",
    "train_loader = DataLoader(train_dataset, batch_size=512, shuffle=True)\n",
    "test_loader = DataLoader(test_dataset, batch_size=512, shuffle=False)\n",
    "\n",
    "# Number of unique users and movies\n",
    "num_users = len(np.unique(user_ids))\n",
    "num_movies = len(np.unique(movie_ids))\n",
    "\n",
    "num_users, num_movies\n",
    "\n"
   ]
  },
  {
   "cell_type": "code",
   "execution_count": 3,
   "id": "8edd3a7c",
   "metadata": {},
   "outputs": [],
   "source": [
    "class RecommenderNet(nn.Module):\n",
    "    def __init__(self, num_users, num_movies, embedding_size):\n",
    "        super(RecommenderNet, self).__init__()\n",
    "        self.user_embedding = nn.Embedding(num_users, embedding_size)\n",
    "        self.movie_embedding = nn.Embedding(num_movies, embedding_size)\n",
    "        self.fc1 = nn.Linear(embedding_size * 2, 128)\n",
    "        self.fc2 = nn.Linear(128, 1)\n",
    "        self.dropout = nn.Dropout(0.5)\n",
    "\n",
    "    def forward(self, user_input, movie_input):\n",
    "        user_embedded = self.user_embedding(user_input)\n",
    "        movie_embedded = self.movie_embedding(movie_input)\n",
    "        x = torch.cat([user_embedded, movie_embedded], dim=1)\n",
    "        x = torch.relu(self.fc1(x))\n",
    "        x = self.dropout(x)\n",
    "        x = torch.sigmoid(self.fc2(x))\n",
    "        return x\n"
   ]
  },
  {
   "cell_type": "code",
   "execution_count": 4,
   "id": "563e028f",
   "metadata": {},
   "outputs": [
    {
     "name": "stdout",
     "output_type": "stream",
     "text": [
      "Epoch 1/15, Loss: 0.07265891134738922\n",
      "Epoch 2/15, Loss: 0.053911130875349045\n",
      "Epoch 3/15, Loss: 0.055319659411907196\n",
      "Epoch 4/15, Loss: 0.053758345544338226\n",
      "Epoch 5/15, Loss: 0.05349694564938545\n",
      "Epoch 6/15, Loss: 0.05598805844783783\n",
      "Epoch 7/15, Loss: 0.05083082243800163\n",
      "Epoch 8/15, Loss: 0.058934204280376434\n",
      "Epoch 9/15, Loss: 0.03695748746395111\n",
      "Epoch 10/15, Loss: 0.04944753646850586\n",
      "Epoch 11/15, Loss: 0.055173423141241074\n",
      "Epoch 12/15, Loss: 0.04911082610487938\n",
      "Epoch 13/15, Loss: 0.045614201575517654\n",
      "Epoch 14/15, Loss: 0.052079711109399796\n",
      "Epoch 15/15, Loss: 0.050773151218891144\n"
     ]
    }
   ],
   "source": [
    "# Initialize the model\n",
    "num_epochs=15\n",
    "embedding_size = 10\n",
    "model = RecommenderNet(num_users, num_movies, embedding_size)\n",
    "\n",
    "# Loss function and optimizer\n",
    "criterion = nn.MSELoss()\n",
    "optimizer = optim.Adam(model.parameters(), lr=0.01)\n",
    "\n",
    "# Training loop\n",
    "for epoch in range(num_epochs):\n",
    "    model.train()\n",
    "    for user_input, movie_input, ratings in train_loader:\n",
    "        # Convert inputs to LongTensor\n",
    "        user_input = user_input.long()\n",
    "        movie_input = movie_input.long()\n",
    "        ratings = ratings.float()\n",
    "\n",
    "        # Zero the parameter gradients\n",
    "        optimizer.zero_grad()\n",
    "        \n",
    "        # Forward pass\n",
    "        outputs = model(user_input, movie_input)\n",
    "        loss = criterion(outputs, ratings.view(-1, 1))\n",
    "        \n",
    "        # Backward pass and optimize\n",
    "        loss.backward()\n",
    "        optimizer.step()\n",
    "    \n",
    "    print(f\"Epoch {epoch+1}/{num_epochs}, Loss: {loss.item()}\")\n",
    "\n"
   ]
  }
 ],
 "metadata": {
  "kernelspec": {
   "display_name": "Python 3 (ipykernel)",
   "language": "python",
   "name": "python3"
  },
  "language_info": {
   "codemirror_mode": {
    "name": "ipython",
    "version": 3
   },
   "file_extension": ".py",
   "mimetype": "text/x-python",
   "name": "python",
   "nbconvert_exporter": "python",
   "pygments_lexer": "ipython3",
   "version": "3.11.6"
  }
 },
 "nbformat": 4,
 "nbformat_minor": 5
}
